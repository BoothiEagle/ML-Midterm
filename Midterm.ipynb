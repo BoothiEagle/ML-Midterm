{
  "nbformat": 4,
  "nbformat_minor": 0,
  "metadata": {
    "colab": {
      "name": "Midterm.ipynb",
      "version": "0.3.2",
      "provenance": [],
      "include_colab_link": true
    },
    "kernelspec": {
      "name": "python3",
      "display_name": "Python 3"
    }
  },
  "cells": [
    {
      "cell_type": "markdown",
      "metadata": {
        "id": "view-in-github",
        "colab_type": "text"
      },
      "source": [
        "<a href=\"https://colab.research.google.com/github/BoothiEagle/ML-Midterm/blob/master/Midterm.ipynb\" target=\"_parent\"><img src=\"https://colab.research.google.com/assets/colab-badge.svg\" alt=\"Open In Colab\"/></a>"
      ]
    },
    {
      "metadata": {
        "id": "t-gKNunAdUIf",
        "colab_type": "text"
      },
      "cell_type": "markdown",
      "source": [
        "1.a \n",
        "Distance is a key notion underlying many machine learning algorithms, such as k-nearest neighbor (k-NN).\n",
        "What problem is there with comparing consumers using regular Euclidean distance, for example when they are\n",
        "described by age (in years), income (in dollars), and number of credit cards? How can this problem be fixed?\n"
      ]
    },
    {
      "metadata": {
        "id": "H_zkruALdorj",
        "colab_type": "text"
      },
      "cell_type": "markdown",
      "source": [
        "One of the primary issues with this Euclidean measure is that the scale of each variable can arbitrarily dominate the algorithms training, for instance, because age has a much smaller range than Income, and the number of credit cards likewise is a much smaller range than even age, we would expect the Euclidean distance to primarily be affected by income. Normalizing the data (typically mean 0, std dev 1) is one method we may use to overcome this problem, Standardizing the data to transform max and minimum values to 1-0 is another possibility. "
      ]
    },
    {
      "metadata": {
        "id": "CU21bkcUe4oj",
        "colab_type": "text"
      },
      "cell_type": "markdown",
      "source": [
        "1.b  Explain what is the difference between clustering and classification.\n"
      ]
    },
    {
      "metadata": {
        "id": "7u8-IDNae85k",
        "colab_type": "text"
      },
      "cell_type": "markdown",
      "source": [
        "Clustering is an unsupervised technique that can be used on unlabeled data to identify groupings of similar observations based on a given algorithm and computation of similarity and distance. This is often utilized to determine what underlying sub-groups within a larger population may exist and could be later used for aditional analysis. Classification seeks to use predictor variables to assign a given target variable a value that fits within a certain given range of possible values For instance, identifying a binary case of whether or not to offer a credit card would be such an example, with the \"decision\" being made on the basis of features in the dataset. This requires a labeling to evaluabe test-MSE and therefore efficacy.\n"
      ]
    },
    {
      "metadata": {
        "id": "kPXvtqWbgEFc",
        "colab_type": "text"
      },
      "cell_type": "markdown",
      "source": [
        "1.c Explain what is the difference between regression and classification.\n"
      ]
    },
    {
      "metadata": {
        "id": "A0cYxVxpgKFK",
        "colab_type": "text"
      },
      "cell_type": "markdown",
      "source": [
        "Regression and Classification both utilize labeled data and are supervised learning techniques. The primary difference is that regression yields an estimate that is on a scale, such as predicted income, wealth, or purchase volume. Classification would predict a category,, such as \"high-spender\",  \"medium-spender\", 'low-spender.\" The loss function underlying algorithms in both also differ as a result (deviance vs OLS for instance)'"
      ]
    },
    {
      "metadata": {
        "id": "8gRmulk4gpfA",
        "colab_type": "text"
      },
      "cell_type": "markdown",
      "source": [
        "1.d You would like to build a model for predicting defaults on student loans. You are given a large number of\n",
        "categorical attributes of each loan such as the type of the school that a student is going to attend, the state where\n",
        "it is located etc., as well as numerical attributes such as outstanding loan amount, student’s age, loan interest rate\n",
        "and so on. Your client asks that your model must provide a clear explanation of the reason for its predictions,\n",
        "since the final judgment on whether to give a loan or not will be made by a human agent. What machine learning\n",
        "method would you suggest using? Explain why briefly (one or two sentences).\n"
      ]
    },
    {
      "metadata": {
        "id": "Ozu0PVsAgtWP",
        "colab_type": "text"
      },
      "cell_type": "markdown",
      "source": [
        "Given the need for interpretability, we might err toward using a decision tree, since any given outcome can be traced to a logical sequence of smaller decisions and thresholds that will relate to the attributes in the dataset. A logistic regression might also be appropriate but interpreting features is done on an importance or impact level rather then providing an exact logical map of a given classification decision."
      ]
    },
    {
      "metadata": {
        "id": "4mba4pdWlFes",
        "colab_type": "text"
      },
      "cell_type": "markdown",
      "source": [
        "1.e Explain why using ROC curves can be more effective for assessing model quality than the percent of classifications\n",
        "that are correct (a.k.a. “vanilla” accuracy)."
      ]
    },
    {
      "metadata": {
        "id": "pZsr4QYllHTC",
        "colab_type": "text"
      },
      "cell_type": "markdown",
      "source": [
        "Vanilla accuracy will only give us (TP + TN / TP + FP  + FP + FN), in a dataset that is inherently unbalanced where perhaps only 1% of observations are a given category, such as \"Spam\" email, then a model which predicts no emails are SPAM would have 99% accuracy. Using an ROC curve, which plots TP Rate on Y and FP Rate on X gives us a clearer idea of how capable the model is at identifying True Positives versus False Positives as well (Precision).  Taking the Area Under the Curve (AUC) gives us a measure of performance across all possible classification thresholds."
      ]
    },
    {
      "metadata": {
        "id": "LV1ZyX6Rrv63",
        "colab_type": "text"
      },
      "cell_type": "markdown",
      "source": [
        "1.d Performance of the k-nearest neighbor algorithm crucially depends on the choice of k. Explain the pros and cons\n",
        "of using different values for k, for example k = 1 and k = n, where n is the total number of training examples.\n",
        "How would you choose k?"
      ]
    },
    {
      "metadata": {
        "id": "OiuGwBiIrx9X",
        "colab_type": "text"
      },
      "cell_type": "markdown",
      "source": [
        "Because the k-NN algorithm's parameter of model complexity is k, increasing or decreasing k directly affects the bias-variance tradeoff. A very low k will give us a very low bias but very high variance, as the model is mapping to each example in n. Were k to take the value of n, it would likewise be at the opposite extreme and have no variance but very high bias, as the estimate is based on the average of ALL observations n. One way of choosing k would be to vary k and continually compute training-MSE and test-MSE, identifying a value where test-MSE is at or near a local minimum.\n",
        "\n"
      ]
    },
    {
      "metadata": {
        "id": "NAVEixjOgKDt",
        "colab_type": "text"
      },
      "cell_type": "markdown",
      "source": [
        "2.4 Use k-means clustering to identify clusters of households based on the variables that describe the basis for purchase. When choosing a good value for the numbers of clusters, k, think about how the clusters would be used. It is likely that the marketing efforts would support two to five different promotional approaches. Consider scaling variables. Select what you think is the best segmentation and comment on the characteristics (demographic, brand loyalty, and basis for purchase) of these clusters. This information would be used to guide the development of advertising and promotional campaigns."
      ]
    },
    {
      "metadata": {
        "id": "ajDU9P0Yt4hs",
        "colab_type": "code",
        "colab": {}
      },
      "cell_type": "code",
      "source": [
        "#Import Packages\n",
        "import numpy as np\n",
        "import seaborn as sns\n",
        "import pandas as pd\n",
        "import matplotlib.pyplot as plt\n",
        "from sklearn.linear_model import LinearRegression\n",
        "from sklearn.cluster import KMeans\n",
        "from sklearn import preprocessing"
      ],
      "execution_count": 0,
      "outputs": []
    },
    {
      "metadata": {
        "id": "1exxlNCsuRns",
        "colab_type": "code",
        "outputId": "c4b7450d-a80e-4bf2-c389-f1870442c917",
        "colab": {
          "resources": {
            "http://localhost:8080/nbextensions/google.colab/files.js": {
              "data": "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",
              "ok": true,
              "headers": [
                [
                  "content-type",
                  "application/javascript"
                ]
              ],
              "status": 200,
              "status_text": ""
            }
          },
          "base_uri": "https://localhost:8080/",
          "height": 74
        }
      },
      "cell_type": "code",
      "source": [
        "#Import data\n",
        "\n",
        "from google.colab import files\n",
        "uploaded = files.upload()\n"
      ],
      "execution_count": 13,
      "outputs": [
        {
          "output_type": "display_data",
          "data": {
            "text/html": [
              "\n",
              "     <input type=\"file\" id=\"files-776992f9-7a26-4d2b-9df5-0eb5932f5cac\" name=\"files[]\" multiple disabled />\n",
              "     <output id=\"result-776992f9-7a26-4d2b-9df5-0eb5932f5cac\">\n",
              "      Upload widget is only available when the cell has been executed in the\n",
              "      current browser session. Please rerun this cell to enable.\n",
              "      </output>\n",
              "      <script src=\"/nbextensions/google.colab/files.js\"></script> "
            ],
            "text/plain": [
              "<IPython.core.display.HTML object>"
            ]
          },
          "metadata": {
            "tags": []
          }
        },
        {
          "output_type": "stream",
          "text": [
            "Saving BathSoapHousehold.csv to BathSoapHousehold (3).csv\n"
          ],
          "name": "stdout"
        }
      ]
    },
    {
      "metadata": {
        "id": "_4a0fYHAaJV1",
        "colab_type": "code",
        "colab": {}
      },
      "cell_type": "code",
      "source": [
        "#Look at Dataset\n",
        "\n",
        "import pandas_profiling\n",
        "pandas_profiling.ProfileReport(df_BathSoap)"
      ],
      "execution_count": 0,
      "outputs": []
    },
    {
      "metadata": {
        "id": "h8MNFUKPuVPD",
        "colab_type": "code",
        "colab": {
          "base_uri": "https://localhost:8080/",
          "height": 196
        },
        "outputId": "23439c23-9fad-46c3-aaef-330657cd6b34"
      },
      "cell_type": "code",
      "source": [
        "#Convert CSV to pd.DF\n",
        "df_BathSoap = pd.read_csv('BathSoapHousehold.csv')\n",
        "headers = df_BathSoap.iloc[0]\n",
        "df_BathSoap  = pd.DataFrame(df_BathSoap.values[1:], columns=headers)\n",
        "\n",
        "#Inspect the data\n",
        "df_BathSoap.head()\n",
        "\n",
        "df_BathSoap.describe()"
      ],
      "execution_count": 63,
      "outputs": [
        {
          "output_type": "execute_result",
          "data": {
            "text/html": [
              "<div>\n",
              "<style scoped>\n",
              "    .dataframe tbody tr th:only-of-type {\n",
              "        vertical-align: middle;\n",
              "    }\n",
              "\n",
              "    .dataframe tbody tr th {\n",
              "        vertical-align: top;\n",
              "    }\n",
              "\n",
              "    .dataframe thead th {\n",
              "        text-align: right;\n",
              "    }\n",
              "</style>\n",
              "<table border=\"1\" class=\"dataframe\">\n",
              "  <thead>\n",
              "    <tr style=\"text-align: right;\">\n",
              "      <th></th>\n",
              "      <th>Member id</th>\n",
              "      <th>SEC</th>\n",
              "      <th>FEH</th>\n",
              "      <th>MT</th>\n",
              "      <th>SEX</th>\n",
              "      <th>AGE</th>\n",
              "      <th>EDU</th>\n",
              "      <th>HS</th>\n",
              "      <th>CHILD</th>\n",
              "      <th>CS</th>\n",
              "      <th>...</th>\n",
              "      <th>PropCat 6</th>\n",
              "      <th>PropCat 7</th>\n",
              "      <th>PropCat 8</th>\n",
              "      <th>PropCat 9</th>\n",
              "      <th>PropCat 10</th>\n",
              "      <th>PropCat 11</th>\n",
              "      <th>PropCat 12</th>\n",
              "      <th>PropCat 13</th>\n",
              "      <th>PropCat 14</th>\n",
              "      <th>PropCat 15</th>\n",
              "    </tr>\n",
              "  </thead>\n",
              "  <tbody>\n",
              "    <tr>\n",
              "      <th>count</th>\n",
              "      <td>600</td>\n",
              "      <td>600</td>\n",
              "      <td>600</td>\n",
              "      <td>600</td>\n",
              "      <td>600</td>\n",
              "      <td>600</td>\n",
              "      <td>600</td>\n",
              "      <td>600</td>\n",
              "      <td>600</td>\n",
              "      <td>600</td>\n",
              "      <td>...</td>\n",
              "      <td>600</td>\n",
              "      <td>600</td>\n",
              "      <td>600</td>\n",
              "      <td>600</td>\n",
              "      <td>600</td>\n",
              "      <td>600</td>\n",
              "      <td>600</td>\n",
              "      <td>600</td>\n",
              "      <td>600</td>\n",
              "      <td>600</td>\n",
              "    </tr>\n",
              "    <tr>\n",
              "      <th>unique</th>\n",
              "      <td>600</td>\n",
              "      <td>4</td>\n",
              "      <td>4</td>\n",
              "      <td>15</td>\n",
              "      <td>3</td>\n",
              "      <td>4</td>\n",
              "      <td>10</td>\n",
              "      <td>13</td>\n",
              "      <td>5</td>\n",
              "      <td>3</td>\n",
              "      <td>...</td>\n",
              "      <td>342</td>\n",
              "      <td>326</td>\n",
              "      <td>310</td>\n",
              "      <td>239</td>\n",
              "      <td>144</td>\n",
              "      <td>164</td>\n",
              "      <td>105</td>\n",
              "      <td>154</td>\n",
              "      <td>242</td>\n",
              "      <td>148</td>\n",
              "    </tr>\n",
              "    <tr>\n",
              "      <th>top</th>\n",
              "      <td>1120450</td>\n",
              "      <td>3</td>\n",
              "      <td>3</td>\n",
              "      <td>10</td>\n",
              "      <td>2</td>\n",
              "      <td>4</td>\n",
              "      <td>5</td>\n",
              "      <td>4</td>\n",
              "      <td>4</td>\n",
              "      <td>1</td>\n",
              "      <td>...</td>\n",
              "      <td>0</td>\n",
              "      <td>0</td>\n",
              "      <td>0</td>\n",
              "      <td>0</td>\n",
              "      <td>0</td>\n",
              "      <td>0</td>\n",
              "      <td>0</td>\n",
              "      <td>0</td>\n",
              "      <td>0</td>\n",
              "      <td>0</td>\n",
              "    </tr>\n",
              "    <tr>\n",
              "      <th>freq</th>\n",
              "      <td>1</td>\n",
              "      <td>150</td>\n",
              "      <td>332</td>\n",
              "      <td>326</td>\n",
              "      <td>511</td>\n",
              "      <td>287</td>\n",
              "      <td>189</td>\n",
              "      <td>147</td>\n",
              "      <td>267</td>\n",
              "      <td>443</td>\n",
              "      <td>...</td>\n",
              "      <td>252</td>\n",
              "      <td>264</td>\n",
              "      <td>288</td>\n",
              "      <td>355</td>\n",
              "      <td>456</td>\n",
              "      <td>436</td>\n",
              "      <td>496</td>\n",
              "      <td>443</td>\n",
              "      <td>345</td>\n",
              "      <td>451</td>\n",
              "    </tr>\n",
              "  </tbody>\n",
              "</table>\n",
              "<p>4 rows × 46 columns</p>\n",
              "</div>"
            ],
            "text/plain": [
              "0      Member id  SEC  FEH   MT  SEX  AGE  EDU   HS CHILD   CS    ...      \\\n",
              "count        600  600  600  600  600  600  600  600   600  600    ...       \n",
              "unique       600    4    4   15    3    4   10   13     5    3    ...       \n",
              "top      1120450    3    3   10    2    4    5    4     4    1    ...       \n",
              "freq           1  150  332  326  511  287  189  147   267  443    ...       \n",
              "\n",
              "0      PropCat 6 PropCat 7 PropCat 8 PropCat 9 PropCat 10 PropCat 11  \\\n",
              "count        600       600       600       600        600        600   \n",
              "unique       342       326       310       239        144        164   \n",
              "top            0         0         0         0          0          0   \n",
              "freq         252       264       288       355        456        436   \n",
              "\n",
              "0      PropCat 12 PropCat 13 PropCat 14 PropCat 15  \n",
              "count         600        600        600        600  \n",
              "unique        105        154        242        148  \n",
              "top             0          0          0          0  \n",
              "freq          496        443        345        451  \n",
              "\n",
              "[4 rows x 46 columns]"
            ]
          },
          "metadata": {
            "tags": []
          },
          "execution_count": 63
        }
      ]
    },
    {
      "metadata": {
        "id": "NDIx-QPwPZux",
        "colab_type": "code",
        "colab": {
          "base_uri": "https://localhost:8080/",
          "height": 361
        },
        "outputId": "94f0ff51-52c5-4ad2-b97c-4722ee5a8758"
      },
      "cell_type": "code",
      "source": [
        "#Fit Unscaled\n",
        "\n",
        "#Fit various KMeans models to data and compute Inertia. A value of K where inertia levels off (\"elbow\") will be rule of thumb used to select a k value.\n",
        "\n",
        "#We will fit KMeans models on only the columns 31:45 which comprise the features within categories: \" basis for purchase.\" which are: \"Price Cat 1 to 4\" and \"Proposition Cat 5 to 15\"\n",
        "\n",
        "ks = range(1,10)\n",
        "inertias = []\n",
        "\n",
        "for k in ks:\n",
        "  #Create a Kmeans instance with k clusters: model\n",
        "  model = KMeans(n_clusters=k)\n",
        "  #fit the model to Scaled Dataframe S_x\n",
        "  model.fit(df_BathSoap.iloc[:,31:45])\n",
        "  #Append inertias\n",
        "  inertias.append(model.inertia_)\n",
        "\n",
        "#Plot results \n",
        "plt.plot(ks, inertias, '-o')\n",
        "plt.xlabel('number of clusters, k')\n",
        "plt.ylabel('inertia')\n",
        "plt.xticks(ks)\n",
        "plt.show()"
      ],
      "execution_count": 64,
      "outputs": [
        {
          "output_type": "display_data",
          "data": {
            "image/png": "[encoded data removed]",
            "text/plain": [
              "<Figure size 576x396 with 1 Axes>"
            ]
          },
          "metadata": {
            "tags": []
          }
        }
      ]
    },
    {
      "metadata": {
        "id": "mhcKfjDKFcV2",
        "colab_type": "code",
        "colab": {}
      },
      "cell_type": "code",
      "source": [
        "#Scale the Features with significantly different variances: \"Affluence Index\"\t\"No. of Brands\"\t\"Brand Runs\"\t\"Total Volume\"\t\"No. of  Trans\"\t\"Value\"\t\"Trans / Brand Runs\"\t\"Vol/Tran\"\t\"Avg. Price\" "
      ],
      "execution_count": 0,
      "outputs": []
    },
    {
      "metadata": {
        "id": "vPU2hzbgSJlG",
        "colab_type": "text"
      },
      "cell_type": "markdown",
      "source": [
        "Unscaled, we get 5 clusters using the features within the \"Basis for Purchase\" category"
      ]
    },
    {
      "metadata": {
        "id": "0RV37hbiFuYC",
        "colab_type": "code",
        "colab": {
          "base_uri": "https://localhost:8080/",
          "height": 87
        },
        "outputId": "0c34c831-ad46-45b5-9434-b961e3aeebfb"
      },
      "cell_type": "code",
      "source": [
        "#StandardScaler to be used \n",
        "S_df_BathSoap = df_BathSoap.copy()\n",
        "x = S_df_BathSoap.iloc[:, 10:18].values \n",
        "Standardisation = preprocessing.StandardScaler() \n",
        "S_x = Standardisation.fit_transform(x) \n",
        "S_df_BathSoap.iloc[:,10:18] = S_x\n",
        " "
      ],
      "execution_count": 67,
      "outputs": [
        {
          "output_type": "stream",
          "text": [
            "/usr/local/lib/python3.6/dist-packages/sklearn/utils/validation.py:595: DataConversionWarning: Data with input dtype object was converted to float64 by StandardScaler.\n",
            "  warnings.warn(msg, DataConversionWarning)\n",
            "/usr/local/lib/python3.6/dist-packages/sklearn/utils/validation.py:595: DataConversionWarning: Data with input dtype object was converted to float64 by StandardScaler.\n",
            "  warnings.warn(msg, DataConversionWarning)\n"
          ],
          "name": "stderr"
        }
      ]
    },
    {
      "metadata": {
        "id": "0BPcv9eruy_d",
        "colab_type": "code",
        "colab": {
          "base_uri": "https://localhost:8080/",
          "height": 372
        },
        "outputId": "fc2c8998-2f68-47e8-af53-466a6aa4cbb0"
      },
      "cell_type": "code",
      "source": [
        "\n",
        "#A scaled dataset is clustered on in its entirety to assess reasonability of using 5 clusters. \n",
        "\n",
        "ks = range(1,10)\n",
        "inertias = []\n",
        "\n",
        "for k in ks:\n",
        "  #Create a Kmeans instance with k clusters: model\n",
        "  model = KMeans(n_clusters=k)\n",
        "  #fit the model to Scaled Dataframe S_x\n",
        "  model.fit(S_df_BathSoap)\n",
        "  #Append inertias\n",
        "  inertias.append(model.inertia_)\n",
        "\n",
        "#Plot results \n",
        "plt.plot(ks, inertias, '-o')\n",
        "plt.xlabel('number of clusters, k')\n",
        "plt.ylabel('inertia')\n",
        "plt.xticks(ks)\n",
        "plt.show()"
      ],
      "execution_count": 68,
      "outputs": [
        {
          "output_type": "display_data",
          "data": {
            "image/png": "[encoded data removed]",
            "text/plain": [
              "<Figure size 576x396 with 1 Axes>"
            ]
          },
          "metadata": {
            "tags": []
          }
        }
      ]
    },
    {
      "metadata": {
        "id": "YNy3obN_Pjoi",
        "colab_type": "text"
      },
      "cell_type": "markdown",
      "source": [
        "Results are not siginficantly different, the non-Scaled dataset will be used to keep interpretability of next analysis"
      ]
    },
    {
      "metadata": {
        "id": "y2WWcw5hXOFX",
        "colab_type": "code",
        "colab": {}
      },
      "cell_type": "code",
      "source": [
        "#Fit KMeans model with selected clustering\n",
        "Kmodel = KMeans(n_clusters=5)\n",
        "predict = Kmodel.fit_predict(df_BathSoap)\n",
        "\n",
        "#Append cluster to observation\n",
        "df_BathSoap['Cluster'] = pd.Series(predict, index=df_BathSoap.index)\n",
        "\n",
        "\n",
        "pd.set_option('display.height', 500)\n",
        "pd.set_option('display.max_rows', 500)\n",
        "\n",
        "#Check Cluster Info Is Appended\n",
        "\n",
        "df_BathSoap.head()"
      ],
      "execution_count": 0,
      "outputs": []
    },
    {
      "metadata": {
        "id": "rhJaet8cZbJF",
        "colab_type": "code",
        "colab": {}
      },
      "cell_type": "code",
      "source": [
        "#The dataset is exported to excel for more rapid Pivoting and Charting\n",
        "\n",
        "df_BathSoap.to_csv('df.csv', index=False)\n",
        "from google.colab import files\n",
        "files.download('df.csv')"
      ],
      "execution_count": 0,
      "outputs": []
    },
    {
      "metadata": {
        "id": "wnjpGS65Hx21",
        "colab_type": "text"
      },
      "cell_type": "markdown",
      "source": [
        "The relevant summary information from each of the model's clusters is now presented, with conclusions about the characteristics of each cluster following."
      ]
    },
    {
      "metadata": {
        "id": "qCUjF6S3G-wR",
        "colab_type": "text"
      },
      "cell_type": "markdown",
      "source": [
        "![alt text](https://i.postimg.cc/1XYvsCTp/Clusters-Pivots.png)"
      ]
    },
    {
      "metadata": {
        "id": "r_SLTBNxKxeq",
        "colab_type": "text"
      },
      "cell_type": "markdown",
      "source": [
        "We can note that there are indeed differences across identifiable dimensions between our Clusters on demographic and Purchase behavior basis"
      ]
    },
    {
      "metadata": {
        "id": "jk0eQy70IFz8",
        "colab_type": "text"
      },
      "cell_type": "markdown",
      "source": [
        "![alt text](https://i.postimg.cc/zfBYk6Nr/Price-Categorywise-Purchase-per-Cluster.png)"
      ]
    },
    {
      "metadata": {
        "id": "E4TR4dobHm6L",
        "colab_type": "text"
      },
      "cell_type": "markdown",
      "source": [
        "![alt text](https://i.postimg.cc/KvHzLPB4/Cluster-Average-Brandwise-Purchase.png)"
      ]
    },
    {
      "metadata": {
        "id": "UYos_COhHaed",
        "colab_type": "text"
      },
      "cell_type": "markdown",
      "source": [
        "![alt text](https://i.postimg.cc/cLvv590Q/Cluster-Average-Selling-Proposition-Wise-Purchase.png)"
      ]
    },
    {
      "metadata": {
        "id": "iDmYwnBEK3Vm",
        "colab_type": "text"
      },
      "cell_type": "markdown",
      "source": [
        "\n",
        "\n",
        "![alt text](https://i.postimg.cc/4dtKJB3r/Descriptive-Cluster-Characteristics.png)\n"
      ]
    },
    {
      "metadata": {
        "id": "kwwm9prCEdv6",
        "colab_type": "code",
        "colab": {}
      },
      "cell_type": "code",
      "source": [
        ""
      ],
      "execution_count": 0,
      "outputs": []
    },
    {
      "metadata": {
        "id": "KI1G93A26sT9",
        "colab_type": "text"
      },
      "cell_type": "markdown",
      "source": [
        "**3. A university has extensive dataset on its alumni, including past studies, demographic information by zip code, and past\n",
        "donations. The university is planning to send a deluxe brochure and a donation request to some of the alumni. The\n",
        "university has hired you to help with creating a targeting model under the assumptions:**\n",
        "\n",
        "*   Donation amount may vary.\n",
        "*   Alumni may spontaneously make a donation (even when not targeted).\n",
        "*   Targeting cost is fixed $15 per individual.\n",
        "*   Other than the targeting cost, there are no additional costs for alumni who are targeted and decide not to donate.\n",
        "\n"
      ]
    },
    {
      "metadata": {
        "id": "C-2qaEFzlj3d",
        "colab_type": "text"
      },
      "cell_type": "markdown",
      "source": [
        "**You have been asked to build several data mining models that would suggest which alumni should be targeted. Use the\n",
        "expected value framework to determine which models should be used to address the problem.\n",
        "Note: It is sufficient to write down the correct expected value equations to identify the models that should be constructed.**"
      ]
    },
    {
      "metadata": {
        "colab_type": "text",
        "id": "pQLVYs_mF5mO"
      },
      "cell_type": "markdown",
      "source": [
        "First, it is beneficial to outline the schema of our model decision framework:\n",
        "\n",
        "At a high level, we wish to identify some possible classifiers or models and train them on our training data using a broad spectrum of hyperparameters, selecting our best model by identifying the model that acheives the best misclassification rate on our Test dataset.\n",
        "\n",
        "We would then select a number of appropriate potential models, such as Logistical Regression, RandomForest, and a Boosted Tree (gbm) which have loss functions which will optimize for reducing misclassification. \n",
        "\n",
        "As shown below, we hope to compute a \"Confusion Matrix\" for each of these \"best' models we train and convert this to Expected Rates (Misclassification Rate) . With this, we can apply our cost/benefit matrix to determine an expected model value with which we can make comparisons across models.\n",
        "\n",
        "\n",
        "\n",
        "\n",
        ".\n"
      ]
    },
    {
      "metadata": {
        "id": "1NUh304H7Tu1",
        "colab_type": "text"
      },
      "cell_type": "markdown",
      "source": [
        " ![Schema](data:image/png;base64,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)\n",
        "\n",
        "Let us define some terms:\n",
        "\n",
        " Let Pr(X) be the estimated probability of response of an Alumni\n",
        "described by X as an input.\n",
        "\n",
        "Let Vr be the benefit of a Alumni responding.\n",
        "\n",
        "Let Vnr be the cost of a Alumni not-responding.\n",
        "\n",
        "**Expected benefit of targeting = Pr(x) · Vr + [1 − Pr(X)] · Vnr**\n",
        "\n",
        "Pr(X) = Output of each class of classification model reflecting probability of response . \n",
        "\n",
        "Vr = Expected Value of Alumni response. This could be a historical average donation to responsive Alumni if we assume this represents the \"Target\" population, which given the consistency in recipients sounds reasonable. This value is net of the Target Cost.\n",
        "\n",
        "**Thus Vr = Average Response Donation = Cost to Target**\n",
        "\n",
        "Vnr = Expected Value of Alumni  reponse without promotion.We know Alumni may spontaneously make a donation even when not targeted, therefore this should reflect the anticipated expected donation of a given individual were they not targeted or responding to a particular campaign LESS the targeting cost.\n",
        "\n",
        "**Thus Vnr = Average Non-Response Donation - Cost to Target**\n",
        "\n",
        "\n",
        "\n"
      ]
    },
    {
      "metadata": {
        "id": "FAMaY_9MxDRs",
        "colab_type": "text"
      },
      "cell_type": "markdown",
      "source": [
        "We would send a Brochure to any alumni for which the Pr(X) gives us a positive value\n",
        "\n",
        "Example:\n",
        "\n",
        "If Vr = $50\n",
        "\n",
        "Vnr = $5\n",
        "\n",
        "Cost to Target = $15\n",
        "\n",
        "\n",
        "Pr(X) * (35) + ([1-Pr(X)])*(-10) > 0   --->    If Pr(X) > 22.2% we would target the Alumni"
      ]
    },
    {
      "metadata": {
        "id": "FVqV7LBAyCEq",
        "colab_type": "text"
      },
      "cell_type": "markdown",
      "source": [
        "By multiplying the matrix of expected probabilities in each class by the cost/benefit of each class we would then calculate the model value in one distinct figure. We might compare various models on this basis and pick the one with the highest E(v)"
      ]
    },
    {
      "metadata": {
        "id": "xtwVROkmIbpu",
        "colab_type": "text"
      },
      "cell_type": "markdown",
      "source": [
        "Alternatively, we may find using our models that we are unable to arrive at accurate estimated probabilities or we have a considerable budget constraint, in which case it might be advisable to target a certain top cohort of ranked prospects.\n",
        "\n",
        "If we assume our target population is stable (an alumni directory seems likely to be), then we might also wish to incorporate a Profti curve visualization. \n",
        "\n",
        "We will create a ranking of estimated probability of response and optimise the number of Alumni to reach out to based on when Maximum profit is achieved. A comparison of the various models will yield multiple curves from which we would choose the Profit and target the resulting x-axis value of Alumni.\n",
        "\n",
        "Depending on which Model ( shown below as classifiers 1-3) we might use, there will be a maximum profit at a certain percentage cutoff . The maximum value across the three curves would be our profit-maximizing choice.\n",
        "\n"
      ]
    },
    {
      "metadata": {
        "id": "192y_8J-H5WE",
        "colab_type": "text"
      },
      "cell_type": "markdown",
      "source": [
        "![alt text](data:image/png;base64,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)"
      ]
    },
    {
      "metadata": {
        "id": "wXKzL_nMzqlt",
        "colab_type": "text"
      },
      "cell_type": "markdown",
      "source": [
        "Further possible considerations: One could utilize a clustering method to identify distinguishable sub-populations within the Alumni directory, factors such as years since graduation or historical average donation might be pertinent to distinguishing \"High Net Worth \" individuals. Performing separate analysis on each sub-dataset could yield interesting results if the models were able to train and test better on these sub-populations and therefore achieve superior misclassifcation rates and by extension expected profitability. "
      ]
    },
    {
      "metadata": {
        "id": "e453S8Xz0EoY",
        "colab_type": "text"
      },
      "cell_type": "markdown",
      "source": [
        "**4.1 Using the records in the training data, answer what is the effect of promotion?Of course, the goal of the initial campaign was not just to measure the average effect of the sending the promotional materials, but to try to identify a sub-population where the treatment might have a larger effect. You will build predictive models to identify these sub-populations.**"
      ]
    },
    {
      "metadata": {
        "id": "X-OS66Q8kzKB",
        "colab_type": "text"
      },
      "cell_type": "markdown",
      "source": [
        "To answer this initial question, the rate of change in response between our target and control group will be looked at in the combined dataset of both Training and Test. Binarizing to 1 and 0 for outcome will give us a comparable figure with which to compare across the control and test groups."
      ]
    },
    {
      "metadata": {
        "id": "BHFww14d1RvD",
        "colab_type": "code",
        "colab": {
          "resources": {
            "http://localhost:8080/nbextensions/google.colab/files.js": {
              "data": "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",
              "ok": true,
              "headers": [
                [
                  "content-type",
                  "application/javascript"
                ]
              ],
              "status": 200,
              "status_text": ""
            }
          },
          "base_uri": "https://localhost:8080/",
          "height": 108
        },
        "outputId": "160dad93-c3e3-44ba-b147-39323eaaf034"
      },
      "cell_type": "code",
      "source": [
        "#Import Training data\n",
        "\n",
        "from google.colab import files\n",
        "uploaded = files.upload()"
      ],
      "execution_count": 33,
      "outputs": [
        {
          "output_type": "display_data",
          "data": {
            "text/html": [
              "\n",
              "     <input type=\"file\" id=\"files-e044ea47-0f47-423d-b40e-d84876e775d7\" name=\"files[]\" multiple disabled />\n",
              "     <output id=\"result-e044ea47-0f47-423d-b40e-d84876e775d7\">\n",
              "      Upload widget is only available when the cell has been executed in the\n",
              "      current browser session. Please rerun this cell to enable.\n",
              "      </output>\n",
              "      <script src=\"/nbextensions/google.colab/files.js\"></script> "
            ],
            "text/plain": [
              "<IPython.core.display.HTML object>"
            ]
          },
          "metadata": {
            "tags": []
          }
        },
        {
          "output_type": "stream",
          "text": [
            "Saving promotions_train (1).csv to promotions_train (1) (1).csv\n",
            "Saving promotions_test.csv to promotions_test.csv\n"
          ],
          "name": "stdout"
        }
      ]
    },
    {
      "metadata": {
        "id": "D4bDSMfINxYg",
        "colab_type": "code",
        "colab": {}
      },
      "cell_type": "code",
      "source": [
        "df_XTrain = pd.read_csv('promotions_train (1).csv')\n",
        "\n",
        "#Inspect the data\n",
        "\n",
        "df_XTrain.head()\n",
        "df_XTrain.describe()\n",
        "print(df_XTrain.columns)\n",
        "\n",
        "df_XTest = pd.read_csv('promotions_test (1).csv')\n",
        "\n",
        "df_XTest.head()\n",
        "df_XTest.describe()\n",
        "print(df_XTest.columns)"
      ],
      "execution_count": 0,
      "outputs": []
    },
    {
      "metadata": {
        "id": "3zkswtGbZhw6",
        "colab_type": "code",
        "colab": {}
      },
      "cell_type": "code",
      "source": [
        "#Data is binarized and tabled in Excel - average of outcome in binarized 1-0 form gives percentage of "
      ],
      "execution_count": 0,
      "outputs": []
    },
    {
      "metadata": {
        "id": "DHspl7yXjNRQ",
        "colab_type": "text"
      },
      "cell_type": "markdown",
      "source": [
        "![alt text](https://i.postimg.cc/prjN0VvF/Control-vs-Target.png)"
      ]
    },
    {
      "metadata": {
        "id": "l7o6y7YOltii",
        "colab_type": "text"
      },
      "cell_type": "markdown",
      "source": [
        "We conclude that on an \"average\" basis there was not a notable change in the probability of positive outcome between test and control. Further sub-setting the data may show more interesting findings, however."
      ]
    },
    {
      "metadata": {
        "id": "Cu0A7-V4mQzM",
        "colab_type": "text"
      },
      "cell_type": "markdown",
      "source": [
        "**4.2 Using the data in promotions_train.csv build a decision tree model, a random forest model and a boosting model for the variable outcome using input variables available (including the variable target_control). Discuss how you chose the input variables and parameters used to build the models. Among your three models, choose the best one in terms of predictive power. Which one is it? Why did you choose it?**"
      ]
    },
    {
      "metadata": {
        "id": "1paZSA-BhYOh",
        "colab_type": "text"
      },
      "cell_type": "markdown",
      "source": [
        "Note to the grader - I was unable to get my code to work for this problem, I have to the best of my ability outlined the steps and possible outcomes from each step, and what that might mean in the context of this question, in order to demonstrate my understanding to the best I can given I was unable to get my own results from my coding."
      ]
    },
    {
      "metadata": {
        "id": "IpTnyjfIdVar",
        "colab_type": "code",
        "colab": {}
      },
      "cell_type": "code",
      "source": [
        "#import learners\n",
        "from sklearn.preprocessing import OneHotEncoder\n",
        "from sklearn import model_selection\n",
        "from sklearn.model_selection import GridSearchCV, cross_val_score, RandomizedSearchCV\n",
        "from sklearn import tree #DecisionTree\n",
        "from sklearn.ensemble import RandomForestRegressor #Random Forest\n",
        "from sklearn.ensemble import GradientBoostingClassifier  #GBM algorithm\n"
      ],
      "execution_count": 0,
      "outputs": []
    },
    {
      "metadata": {
        "id": "H57V9roksbHy",
        "colab_type": "code",
        "colab": {
          "resources": {
            "http://localhost:8080/nbextensions/google.colab/files.js": {
              "data": "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",
              "ok": true,
              "headers": [
                [
                  "content-type",
                  "application/javascript"
                ]
              ],
              "status": 200,
              "status_text": ""
            }
          },
          "base_uri": "https://localhost:8080/",
          "height": 108
        },
        "outputId": "15c12a9c-8290-48bf-920c-c2cf8e7bc153"
      },
      "cell_type": "code",
      "source": [
        "#Import binarized data\n",
        "from google.colab import files\n",
        "uploaded = files.upload()\n"
      ],
      "execution_count": 81,
      "outputs": [
        {
          "output_type": "display_data",
          "data": {
            "text/html": [
              "\n",
              "     <input type=\"file\" id=\"files-626bd8a3-31ed-4a47-a2a0-185595d7cd4c\" name=\"files[]\" multiple disabled />\n",
              "     <output id=\"result-626bd8a3-31ed-4a47-a2a0-185595d7cd4c\">\n",
              "      Upload widget is only available when the cell has been executed in the\n",
              "      current browser session. Please rerun this cell to enable.\n",
              "      </output>\n",
              "      <script src=\"/nbextensions/google.colab/files.js\"></script> "
            ],
            "text/plain": [
              "<IPython.core.display.HTML object>"
            ]
          },
          "metadata": {
            "tags": []
          }
        },
        {
          "output_type": "stream",
          "text": [
            "Saving promotions_train_modified.csv to promotions_train_modified (3).csv\n",
            "Saving promotions_test_modified.csv to promotions_test_modified (1).csv\n"
          ],
          "name": "stdout"
        }
      ]
    },
    {
      "metadata": {
        "id": "4msY2CAT94Uh",
        "colab_type": "code",
        "colab": {}
      },
      "cell_type": "code",
      "source": [
        ""
      ],
      "execution_count": 0,
      "outputs": []
    },
    {
      "metadata": {
        "id": "nNn5TvxFlsLb",
        "colab_type": "code",
        "colab": {}
      },
      "cell_type": "code",
      "source": [
        "\n",
        "names = ['x1','x2','x3','x4','x5','x6','x7','x8','x9','x10','x11','x12','x13','x14','x15','x16','x17','x18','x19','target_control_binary','outcome_binary']\n",
        "df_train = pd.read_csv('promotions_train_modified (3).csv',names=names)\n",
        "train = pd.get_dummies(df_train)\n",
        "\n",
        "\n",
        "df_test = pd.read_csv('promotions_test_modified (1).csv',names=names)\n",
        "test = pd.get_dummies(df_test)\n",
        "\n",
        "print(train.head())\n",
        "print(test.head())\n",
        "\n",
        "\n",
        "array_1 = train.values\n",
        "array_2 = test.values\n",
        "\n",
        "#Create training set\n",
        "X_train=array_1[:,0:81]\n",
        "Y_train=array_1[:,81]\n",
        "\n",
        "#Create test set\n",
        "X_test=array_2[:,0:20]\n",
        "Y_test=array_2[:,20]\n",
        "\n"
      ],
      "execution_count": 0,
      "outputs": []
    },
    {
      "metadata": {
        "id": "vmGZiB5c4d23",
        "colab_type": "code",
        "colab": {}
      },
      "cell_type": "code",
      "source": [
        "#Initialize Regressors\n",
        "rf = RandomForestRegressor()\n",
        "gbm = GradientBoostingClassifier\n",
        "\n",
        "#set seed\n",
        "\n",
        "seed = 20"
      ],
      "execution_count": 0,
      "outputs": []
    },
    {
      "metadata": {
        "id": "zGm5wTWk5viq",
        "colab_type": "code",
        "colab": {}
      },
      "cell_type": "code",
      "source": [
        "#Number of trees in random forest\n",
        "n_estimators = [int(x) for x in np.linspace(start = 200, stop = 2000, num = 10)]\n",
        "# Number of features to consider at every split\n",
        "max_features = ['auto', 'sqrt']\n",
        "# Maximum number of levels in tree\n",
        "max_depth = [int(x) for x in np.linspace(10, 110, num = 11)]\n",
        "max_depth.append(None)\n",
        "# Minimum number of samples required to split a node\n",
        "min_samples_split = [2, 5, 10]\n",
        "# Minimum number of samples required at each leaf node\n",
        "min_samples_leaf = [1, 2, 4]\n",
        "# Method of selecting samples for training each tree\n",
        "bootstrap = [True, False]\n",
        "\n",
        "\n",
        "# Create random grid\n",
        "random_grid = {'n_estimators': n_estimators,\n",
        "               'max_features': max_features,\n",
        "               'max_depth': max_depth,\n",
        "               'min_samples_split': min_samples_split,\n",
        "               'min_samples_leaf': min_samples_leaf,\n",
        "               'bootstrap': bootstrap}\n",
        "print(random_grid)\n",
        "{'bootstrap': [True, False],\n",
        " 'max_depth': [10, 20, 30, 40, 50, 60, 70, 80, 90, 100, None],\n",
        " 'max_features': ['auto', 'sqrt'],\n",
        " 'min_samples_leaf': [1, 2, 4],\n",
        " 'min_samples_split': [2, 5, 10],\n",
        " 'n_estimators': [200, 400, 600, 800, 1000, 1200, 1400, 1600, 1800, 2000]}\n",
        "\n",
        "\n",
        "# Use random grid to search for best hyperparameters\n",
        "rf_random = RandomizedSearchCV(estimator = rf, param_distributions = random_grid, n_iter = 100, cv = 3, verbose=2, random_state=42, n_jobs = -1)\n",
        "\n",
        "# Fit the random search model\n",
        "rf_random.fit(X_train, Y_train)\n",
        "\n",
        "rf_random.best_params_\n",
        "\n"
      ],
      "execution_count": 0,
      "outputs": []
    },
    {
      "metadata": {
        "id": "NrbVzQOvs4Yf",
        "colab_type": "code",
        "colab": {}
      },
      "cell_type": "code",
      "source": [
        "#Deviance loss function"
      ],
      "execution_count": 0,
      "outputs": []
    },
    {
      "metadata": {
        "id": "cKPSBLmxfsRu",
        "colab_type": "code",
        "colab": {}
      },
      "cell_type": "code",
      "source": [
        "lossf = function(y,phat,wht=0.0000001) {\n",
        "   if(is.factor(y)) y = as.numeric(y)-1\n",
        "   phat = (1-wht)*phat + wht*.5\n",
        "   py = ifelse(y==1, phat, 1-phat)\n",
        "   return(-2*sum(log(py)))\n",
        "}"
      ],
      "execution_count": 0,
      "outputs": []
    },
    {
      "metadata": {
        "id": "-8ljukmpcM7i",
        "colab_type": "code",
        "colab": {}
      },
      "cell_type": "code",
      "source": [
        "#Function for confusion matrix\n",
        "\n",
        "getConfusionMatrix = function(y,phat,thr=0.5) {\n",
        "   if(is.factor(y)) y = as.numeric(y)-1\n",
        "   yhat = ifelse(phat > thr, 1, 0)\n",
        "   tb = table(predictions = yhat, \n",
        "                   actual = y)  \n",
        "   rownames(tb) = c(\"predict_0\", \"predict_1\")\n",
        "   return(tb)\n",
        "}"
      ],
      "execution_count": 0,
      "outputs": []
    },
    {
      "metadata": {
        "id": "VqoNbgGddJ1D",
        "colab_type": "code",
        "colab": {}
      },
      "cell_type": "code",
      "source": [
        "#Mis-classification Rate\n",
        "lossMR = function(y,phat,thr=0.5) {\n",
        "   if(is.factor(y)) y = as.numeric(y)-1\n",
        "   yhat = ifelse(phat > thr, 1, 0)\n",
        "   return(1 - mean(yhat == y))"
      ],
      "execution_count": 0,
      "outputs": []
    },
    {
      "metadata": {
        "id": "p3zI4mCddS2P",
        "colab_type": "code",
        "colab": {}
      },
      "cell_type": "code",
      "source": [
        "#Fit the Tree with a variety of settings using gridsearch\n"
      ],
      "execution_count": 0,
      "outputs": []
    },
    {
      "metadata": {
        "id": "YRSrTKjQdf-c",
        "colab_type": "code",
        "colab": {}
      },
      "cell_type": "code",
      "source": [
        "#Store prediction of phat"
      ],
      "execution_count": 0,
      "outputs": []
    },
    {
      "metadata": {
        "id": "nAYEjRSWdix3",
        "colab_type": "code",
        "colab": {}
      },
      "cell_type": "code",
      "source": [
        "#Fit rf for variety of settings\n",
        "\n",
        "p=ncol(trainDf)-1\n",
        "mtryv = c(p, sqrt(p))\n",
        "ntreev = c(500,1000)\n",
        "(setrf = expand.grid(mtryv,ntreev))  # this contains all settings to try\n",
        "colnames(setrf)=c(\"mtry\",\"ntree\")\n",
        "phatL$rf = matrix(0.0,nrow(testDf),nrow(setrf))  # we will store results here\n",
        "\n",
        "###fit rf\n",
        "for(i in 1:nrow(setrf)) {\n",
        "   #fit and predict\n",
        "   frf = randomForest(y~., data=trainDf, \n",
        "                      mtry=setrf[i,1],\n",
        "                      ntree=setrf[i,2],\n",
        "                      nodesize=10)\n",
        "   phat = predict(frf, newdata=testDf, type=\"prob\")[,2]\n",
        "   phatL$rf[,i]=phat\n",
        "}"
      ],
      "execution_count": 0,
      "outputs": []
    },
    {
      "metadata": {
        "id": "0mmfNoNHdR_f",
        "colab_type": "text"
      },
      "cell_type": "markdown",
      "source": [
        ""
      ]
    },
    {
      "metadata": {
        "id": "Lj704bJ7dsDn",
        "colab_type": "code",
        "colab": {}
      },
      "cell_type": "code",
      "source": [
        "#Fit GBM with another gridsearch for parameters\n",
        "#Convert categorical Value1, Value2...etc to 1-4"
      ],
      "execution_count": 0,
      "outputs": []
    },
    {
      "metadata": {
        "id": "3gw148l3ekf2",
        "colab_type": "code",
        "colab": {}
      },
      "cell_type": "code",
      "source": [
        "```{r}\n",
        "nrun = nrow(setrf)\n",
        "for(j in 1:nrun) {\n",
        "  print(setrf[j,])\n",
        "  print(\"Confusion Matrix:\")\n",
        "  print(getConfusionMatrix(testDf$y, phatL[[2]][,j], 0.5))\n",
        "  cat('Missclassification rate = ', lossMR(testDf$y, phatL[[2]][,j], 0.5), '\\n')\n",
        "}\n",
        "```\n",
        "\n",
        "\\newpage\n",
        "\n",
        "For **boosting** we have:\n",
        "```{r}\n",
        "nrun = nrow(setboost)\n",
        "for(j in 1:nrun) {\n",
        "  print(setboost[j,])\n",
        "  print(\"Confusion Matrix:\")\n",
        "  print(getConfusionMatrix(testDf$y, phatL[[3]][,j], 0.5))\n",
        "  cat('Missclassification rate = ', lossMR(testDf$y, phatL[[3]][,j], 0.5), '\\n')\n",
        "}"
      ],
      "execution_count": 0,
      "outputs": []
    },
    {
      "metadata": {
        "id": "YoTe-QadeFPv",
        "colab_type": "code",
        "colab": {}
      },
      "cell_type": "code",
      "source": [
        "#Analyze Results"
      ],
      "execution_count": 0,
      "outputs": []
    },
    {
      "metadata": {
        "id": "3sgs0_32eeGu",
        "colab_type": "code",
        "colab": {}
      },
      "cell_type": "code",
      "source": [
        "```{r}\n",
        "nrun = nrow(setrf)\n",
        "for(j in 1:nrun) {\n",
        "  print(setrf[j,])\n",
        "  print(\"Confusion Matrix:\")\n",
        "  print(getConfusionMatrix(testDf$y, phatL[[2]][,j], 0.5))\n",
        "  cat('Missclassification rate = ', lossMR(testDf$y, phatL[[2]][,j], 0.5), '\\n')\n",
        "}\n",
        "```\n",
        "\n",
        "\\newpage\n",
        "\n",
        "For **boosting** we have:\n",
        "```{r}\n",
        "nrun = nrow(setboost)\n",
        "for(j in 1:nrun) {\n",
        "  print(setboost[j,])\n",
        "  print(\"Confusion Matrix:\")\n",
        "  print(getConfusionMatrix(testDf$y, phatL[[3]][,j], 0.5))\n",
        "  cat('Missclassification rate = ', lossMR(testDf$y, phatL[[3]][,j], 0.5), '\\n')\n",
        "}"
      ],
      "execution_count": 0,
      "outputs": []
    },
    {
      "metadata": {
        "id": "xPq-IGbMerku",
        "colab_type": "code",
        "colab": {}
      },
      "cell_type": "code",
      "source": [
        "#Plot test set loss vs deviance"
      ],
      "execution_count": 0,
      "outputs": []
    },
    {
      "metadata": {
        "id": "agMNX8CZe0S_",
        "colab_type": "code",
        "colab": {}
      },
      "cell_type": "code",
      "source": [
        "lossL = list()\n",
        "nmethod = length(phatL)\n",
        "for(i in 1:nmethod) {\n",
        "   nrun = ncol(phatL[[i]])\n",
        "   lvec = rep(0,nrun)\n",
        "   for(j in 1:nrun) lvec[j] = lossf(testDf$y, phatL[[i]][,j])\n",
        "   lossL[[i]]=lvec; names(lossL)[i] = names(phatL)[i]\n",
        "}\n",
        "lossv = unlist(lossL)\n",
        "plot(lossv, ylab=\"loss on Test\", type=\"n\")\n",
        "nloss=0\n",
        "for(i in 1:nmethod) {\n",
        "   ii = nloss + 1:ncol(phatL[[i]])\n",
        "   points(ii,lossv[ii],col=i,pch=17)\n",
        "   nloss = nloss + ncol(phatL[[i]])"
      ],
      "execution_count": 0,
      "outputs": []
    },
    {
      "metadata": {
        "id": "mWt1Ggime3Gg",
        "colab_type": "code",
        "colab": {}
      },
      "cell_type": "code",
      "source": [
        "#Choose the method class with lowest error on the validation set"
      ],
      "execution_count": 0,
      "outputs": []
    },
    {
      "metadata": {
        "id": "uAUgtLu3e5y1",
        "colab_type": "code",
        "colab": {}
      },
      "cell_type": "code",
      "source": [
        "nmethod = length(phatL)\n",
        "phatBest = matrix(0.0,nrow(testDf),nmethod) #pick off best from each method\n",
        "colnames(phatBest) = names(phatL)\n",
        "for(i in 1:nmethod) {\n",
        "   nrun = ncol(phatL[[i]])\n",
        "   lvec = rep(0,nrun)\n",
        "   for(j in 1:nrun) lvec[j] = lossf(testDf$y,phatL[[i]][,j])\n",
        "   imin = which.min(lvec)\n",
        "   phatBest[,i] = phatL[[i]][,imin]\n",
        "   phatBest[,i] = phatL[[i]][,1]"
      ],
      "execution_count": 0,
      "outputs": []
    },
    {
      "metadata": {
        "id": "W-NxKs3ve-BV",
        "colab_type": "code",
        "colab": {}
      },
      "cell_type": "code",
      "source": [
        "#Plot plot $/hat p$ for best models on the test set and compare across methods"
      ],
      "execution_count": 0,
      "outputs": []
    },
    {
      "metadata": {
        "id": "f6dV2hYifKoc",
        "colab_type": "code",
        "colab": {}
      },
      "cell_type": "code",
      "source": [
        "#Introduction of cost-benefit numbers allows us to compute cost-benefit matrix"
      ],
      "execution_count": 0,
      "outputs": []
    },
    {
      "metadata": {
        "id": "9u-jqGP1fO0M",
        "colab_type": "code",
        "colab": {}
      },
      "cell_type": "code",
      "source": [
        "Our **cost/benefit matrix** looks like this\n",
        "```{r}\n",
        "cost_benefit = matrix(c(0,-10,0,100), nrow=2)\n",
        "print(cost_benefit)"
      ],
      "execution_count": 0,
      "outputs": []
    },
    {
      "metadata": {
        "id": "29FpOQpXfZQt",
        "colab_type": "text"
      },
      "cell_type": "markdown",
      "source": [
        "We will arrive at a threshold Probability to extend credit, and then apply that rule to each method based on the predicted probabilites and compute the net vexpected value of each model for comparison"
      ]
    },
    {
      "metadata": {
        "id": "4GUDIj8cfXCg",
        "colab_type": "code",
        "colab": {}
      },
      "cell_type": "code",
      "source": [
        "onfMat = getConfusionMatrix(testDf$y, phatBest[,1], 0.2)\n",
        "print(confMat)\n",
        "cat(\"Expected value of tree = \", \n",
        "    sum(sum(confMat * cost_benefit)), \"\\n\")\n",
        "```\n",
        "\n",
        "```{r}\n",
        "confMat = getConfusionMatrix(testDf$y, phatBest[,2], 0.2)\n",
        "print(confMat)\n",
        "cat(\"Expected value of random forests = \", \n",
        "    sum(sum(confMat * cost_benefit)), \"\\n\")\n",
        "```\n",
        "\n",
        "```{r}\n",
        "confMat = getConfusionMatrix(testDf$y, phatBest[,3], 0.2)\n",
        "print(confMat)\n",
        "cat(\"Expected value of boosting = \", \n",
        "    sum(sum(confMat * cost_benefit)), \"\\n\")"
      ],
      "execution_count": 0,
      "outputs": []
    },
    {
      "metadata": {
        "id": "3VC5oXX9gVYp",
        "colab_type": "text"
      },
      "cell_type": "markdown",
      "source": [
        "We can then use a ROC curve to evaluate performance (given profit equation) for our model across confusion matrix continuum"
      ]
    },
    {
      "metadata": {
        "id": "rd3ebkiCggTj",
        "colab_type": "code",
        "colab": {}
      },
      "cell_type": "code",
      "source": [
        "plot(c(0,1),c(0,1),xlab='FPR',ylab='TPR',main=\"ROC curve\",cex.lab=1,type=\"n\")\n",
        "for(i in 1:ncol(phatBest)) {\n",
        "   pred = prediction(phatBest[,i], testDf$y)\n",
        "   perf = performance(pred, measure = \"tpr\", x.measure = \"fpr\")\n",
        "   lines(perf@x.values[[1]], perf@y.values[[1]],col=i)\n",
        "}\n",
        "abline(0,1,lty=2)\n",
        "legend(\"topleft\",legend=names(phatL),col=1:nmethod,lty=rep(1,nmethod))"
      ],
      "execution_count": 0,
      "outputs": []
    },
    {
      "metadata": {
        "id": "3mjPFQ7NgisR",
        "colab_type": "text"
      },
      "cell_type": "markdown",
      "source": [
        "We then use Lift curves to assess the ratio of our model to random guess given a number of samples\n"
      ]
    },
    {
      "metadata": {
        "id": "VuGtccfOg6RT",
        "colab_type": "code",
        "colab": {}
      },
      "cell_type": "code",
      "source": [
        "pred = prediction(phatBest[,1], testDf$y)\n",
        "perf = performance(pred, measure = \"lift\", x.measure = \"rpp\")\n",
        "plot(perf, col=1, ylim=c(0,5))\n",
        "abline(h=1, lty=2)\n",
        "\n",
        "for(i in 2:ncol(phatBest)) {\n",
        "   pred = prediction(phatBest[,i], testDf$y)\n",
        "   perf = performance(pred, measure = \"lift\", x.measure = \"rpp\")\n",
        "   lines(perf@x.values[[1]], perf@y.values[[1]],col=i)\n",
        "}\n",
        "legend(\"topright\",legend=names(phatL),col=1:nmethod,lty=rep(1,nmethod))"
      ],
      "execution_count": 0,
      "outputs": []
    },
    {
      "metadata": {
        "id": "MXlmBOAsg4NH",
        "colab_type": "text"
      },
      "cell_type": "markdown",
      "source": [
        ""
      ]
    },
    {
      "metadata": {
        "id": "_eiOtsXggiCc",
        "colab_type": "code",
        "colab": {}
      },
      "cell_type": "code",
      "source": [
        "red = prediction(phatBest[,1], testDf$y)\n",
        "perf = performance(pred, measure = \"tpr\", x.measure = \"rpp\")\n",
        "plot(perf, col=1, ylim=c(0,1))\n",
        "abline(h=1, lty=2)\n",
        "abline(0,1,lty=2)\n",
        "for(i in 2:ncol(phatBest)) {\n",
        "   pred = prediction(phatBest[,i], testDf$y)\n",
        "   perf = performance(pred, measure = \"tpr\", x.measure = \"rpp\")\n",
        "   lines(perf@x.values[[1]], perf@y.values[[1]],col=i)"
      ],
      "execution_count": 0,
      "outputs": []
    },
    {
      "metadata": {
        "id": "cgKQqV0yhyHV",
        "colab_type": "text"
      },
      "cell_type": "markdown",
      "source": [
        "**4.4) For each record in the test set, compute the uplift defined as\n",
        "P(outcome = positive | target_control = target, x) − P(outcome = positive | target_control = control, x)\n",
        "Report the uplift for the first three records**"
      ]
    },
    {
      "metadata": {
        "id": "HpBX-T1HiG27",
        "colab_type": "code",
        "colab": {}
      },
      "cell_type": "code",
      "source": [
        "#Define uplift and apply to test set\n",
        "#Pull top three records"
      ],
      "execution_count": 0,
      "outputs": []
    },
    {
      "metadata": {
        "id": "FBYhw2CMiF0n",
        "colab_type": "text"
      },
      "cell_type": "markdown",
      "source": [
        "We are hoping to identify second-order effects in order to determine causality, which would be of the most importance to our client given they are trying to optimize marketing budget based on the highest possible impact. High positive values indicates the impact of the promotion is greatest for that group on a conditional probability basis. "
      ]
    },
    {
      "metadata": {
        "id": "4vdMgYPgh-rK",
        "colab_type": "text"
      },
      "cell_type": "markdown",
      "source": [
        "**4.5) Sort the customers according to the estimated uplift from largest to lowest and divide them into 30 bins\n",
        "(each bin will have 100 customers). For each bin, estimate the effect of promotion P(outcome = positive |\n",
        "target_control = target) − P(outcome = positive | target_control = control). Plot the effect of promotion\n",
        "against the index of the bin. This plot shows you the increase in response rate against the number of promotions\n",
        "sent (in increments of 100).**"
      ]
    },
    {
      "metadata": {
        "id": "EbUKtUZhjjiD",
        "colab_type": "code",
        "colab": {}
      },
      "cell_type": "code",
      "source": [
        "#Sort df by Uplift column descending\n",
        "#Divide dataset into new \"groups\" every 100 rows\n",
        "#Plot X axis of Bins 1-30 vs Y of Uplift \n"
      ],
      "execution_count": 0,
      "outputs": []
    },
    {
      "metadata": {
        "id": "zaGiEFO9j6Ha",
        "colab_type": "text"
      },
      "cell_type": "markdown",
      "source": [
        "Indication of successful targeting will be that bins with the highest expectation of uplift based on bin ranking 1-30 will indeed show this."
      ]
    },
    {
      "metadata": {
        "id": "LtrGgnhbiCHn",
        "colab_type": "text"
      },
      "cell_type": "markdown",
      "source": [
        "**4.6 Suppose that sending a promotion costs 10 and getting a new card is worth 100 to the bank. When should\n",
        "we stop sending promotions in this case? By looking at the graph from the previous part, roughly to how many\n",
        "customers would we send the promotion?**"
      ]
    },
    {
      "metadata": {
        "id": "lYemhPY-kOd0",
        "colab_type": "text"
      },
      "cell_type": "markdown",
      "source": [
        "We would solve for the number of customers where expected lift is approximately equal to the cost of targeting, so somehwere around 10 dollars. There would be a given number of bins, likely a fraction of the total, which we would be worthwhile in targeting. \n",
        "\n",
        "The critical element here for our customer is determining the causal link between sending the promotion and generating a response from the customer of sufficient probability to justify the cost. The Uplift analysis gives us a clearer notion of where the cutoff is in terms of number of customers to send the promotion to. "
      ]
    }
  ]
}